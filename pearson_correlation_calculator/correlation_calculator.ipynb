{
 "cells": [
  {
   "cell_type": "raw",
   "metadata": {},
   "source": [
    "Author: Oluwaseun Alexander Dada\n",
    "Email: sogalexis@gmail.com\n",
    "Linkedin: https://www.linkedin.com/in/oadada/\n",
    "\n",
    "This solution loads data (Chromosomes, Position, MAF) from two different files and calculates the Pearson correlation coefficient over overlapping MAF entries."
   ]
  },
  {
   "cell_type": "code",
   "execution_count": null,
   "metadata": {},
   "outputs": [],
   "source": [
    "# importing the needed libraries\n",
    "import pandas as pd\n",
    "from scipy.stats import pearsonr"
   ]
  },
  {
   "cell_type": "code",
   "execution_count": null,
   "metadata": {},
   "outputs": [],
   "source": [
    "# relevant datasets are loaded\n",
    "data1 = pd.read_csv(\"Dataset1.txt\",sep='\\t')\n",
    "data2 = pd.read_csv(\"Dataset2.txt\",sep='\\t')"
   ]
  },
  {
   "cell_type": "code",
   "execution_count": null,
   "metadata": {},
   "outputs": [],
   "source": [
    "# here is a snapshot of the dataset1\n",
    "data1"
   ]
  },
  {
   "cell_type": "code",
   "execution_count": null,
   "metadata": {},
   "outputs": [],
   "source": [
    "# a snapshot of the dataset2\n",
    "data2"
   ]
  },
  {
   "cell_type": "markdown",
   "metadata": {},
   "source": [
    "# Task A\n",
    "Write a stand-alone program that can efficiently find all overlapping (identical) positions from these two files and outputs information for those overlapping (identical) positions into a tabulated output file that has 4 columns: Chromosome, Position, MAF1 (from Dataset1), MAF2 (from Dataset2).\n",
    " \n",
    "Program should quit and give error if number of columns is wrong in either of the files.\n"
   ]
  },
  {
   "cell_type": "code",
   "execution_count": null,
   "metadata": {},
   "outputs": [],
   "source": [
    "# validation\n",
    "\n",
    "# checking to ensure that the number of columns in the two datasets are equal\n",
    "if (len(data1.columns) != len(data2.columns)):\n",
    "    raise ValueError(\"Error: The number of columns in the two datasets must be equal!\")\n",
    "\n",
    "# checking to ensure that there are null entries in dataset1\n",
    "if(data1.isnull().any().any()):\n",
    "    raise ValueError(\"Error: Null not allowed in DataSet1\", data1[data1.isnull().T.any().T])\n",
    "\n",
    "# checking to ensure that there are null entries in dataset2\n",
    "if(data2.isnull().any().any()): \n",
    "    raise ValueError(\"Error: Null not allowed in DataSet2\", data2[data2.isnull().T.any().T])\n"
   ]
  },
  {
   "cell_type": "code",
   "execution_count": null,
   "metadata": {},
   "outputs": [],
   "source": [
    "# overlapping (identical) positions in dataset1 and dataset2 are retrieved\n",
    "# and stored in a new dataframe (data_merged) \n",
    "\n",
    "chr = []\n",
    "pos = []\n",
    "maf_1 = []\n",
    "maf_2 = []\n",
    "\n",
    "for index1, row1 in data1.iterrows():\n",
    "    for index2, row2 in data2.iterrows():        \n",
    "        isChromosomeEqual = row1['Chromosome']== row2['Chromosome']\n",
    "        isPositionEqual = row1['Position']== row2['Position']\n",
    "        \n",
    "        if(isChromosomeEqual & isPositionEqual):       \n",
    "            chr.append(row2['Chromosome'])\n",
    "            pos.append(row2['Position'])       \n",
    "            maf_1.append(row1['MAF'])\n",
    "            maf_2.append(row2['MAF'])\n",
    "     \n",
    "data_merged = pd.DataFrame(list(zip(chr, pos, maf_1, maf_2)), columns=['Chromosome','Position', 'MAF_1', 'MAF_2'])\n"
   ]
  },
  {
   "cell_type": "code",
   "execution_count": null,
   "metadata": {},
   "outputs": [],
   "source": [
    "# put data in the right format\n",
    "data_merged['Chromosome'] = data_merged['Chromosome'].astype(int)\n",
    "data_merged['Position'] = data_merged['Position'].astype(int)\n",
    "data_merged['MAF_1'] = data_merged['MAF_1'].round(7)\n",
    "data_merged['MAF_2'] = data_merged['MAF_2'].round(7)\n"
   ]
  },
  {
   "cell_type": "code",
   "execution_count": null,
   "metadata": {},
   "outputs": [],
   "source": [
    "# here is a snapshop of the tabulated output containing the 4 columns: \n",
    "# Chromosome, Position, MAF1 (from Dataset1), MAF2 (from Dataset2)\n",
    "data_merged"
   ]
  },
  {
   "cell_type": "code",
   "execution_count": null,
   "metadata": {},
   "outputs": [],
   "source": [
    "# write merged dataset to file\n",
    "data_merged.set_index('Position', inplace=True)\n",
    "data_merged.to_csv(\"correlation_output.txt\", sep='\\t')"
   ]
  },
  {
   "cell_type": "markdown",
   "metadata": {},
   "source": [
    "# Task B\n",
    "Write a program that takes the output of the Task A (Chromosome, Position, MAF1 and MAF2) and calculates Pearson correlation coefficient over all corresponding MAF-values (MAF1 vs. MAF2) and outputs this correlation coefficient.\n"
   ]
  },
  {
   "cell_type": "code",
   "execution_count": null,
   "metadata": {},
   "outputs": [],
   "source": [
    "# calculate Pearson correlation coefficient \n",
    "# Pearson correlation coefficient measures the linear relationship between two datasets: maf_1[] and maf_2[]\n",
    "\n",
    "correlation = pearsonr(maf_1, maf_2)\n",
    "correlation"
   ]
  },
  {
   "cell_type": "code",
   "execution_count": null,
   "metadata": {},
   "outputs": [],
   "source": []
  }
 ],
 "metadata": {
  "kernelspec": {
   "display_name": "Python 3",
   "language": "python",
   "name": "python3"
  },
  "language_info": {
   "codemirror_mode": {
    "name": "ipython",
    "version": 3
   },
   "file_extension": ".py",
   "mimetype": "text/x-python",
   "name": "python",
   "nbconvert_exporter": "python",
   "pygments_lexer": "ipython3",
   "version": "3.6.5"
  }
 },
 "nbformat": 4,
 "nbformat_minor": 2
}
